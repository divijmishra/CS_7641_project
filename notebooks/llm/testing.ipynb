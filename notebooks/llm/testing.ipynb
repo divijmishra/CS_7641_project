{
 "cells": [
  {
   "cell_type": "markdown",
   "metadata": {},
   "source": [
    "## Testing data splits"
   ]
  },
  {
   "cell_type": "code",
   "execution_count": 1,
   "metadata": {},
   "outputs": [],
   "source": [
    "import os\n",
    "import json\n",
    "import numpy as np\n",
    "\n",
    "data_path = \"../../data/\"\n",
    "\n",
    "%load_ext autoreload\n",
    "%autoreload 2\n",
    "\n",
    "from llm.llm_utils import (\n",
    "    split_and_save_data,\n",
    "    load_data_as_lists\n",
    ")"
   ]
  },
  {
   "cell_type": "code",
   "execution_count": 13,
   "metadata": {},
   "outputs": [],
   "source": [
    "# save data splits\n",
    "# raw_data_path = data_path + \"raw/generator=base~dataset=p1.00.jsonl\"\n",
    "# split_and_save_data(raw_data_path)"
   ]
  },
  {
   "cell_type": "code",
   "execution_count": 2,
   "metadata": {},
   "outputs": [
    {
     "name": "stdout",
     "output_type": "stream",
     "text": [
      "[\"Patrons crowd the platform at the Washington Metropolitan Area Transit Authority's (WMATA) Metro Center stop in Washington, D.C. on Dec. 20, 2004. Thousands use the public transit system daily to get them in and around the D.C. area. (Karen Bleier/AFP/Getty Images)\\nUS Senators Threaten Metro Funding Over Chinese Manufacturer\\nWASHINGTON —Federal lawmakers say they’ll approve badly needed funding for Washington’s transit system, but only if it avoids buying new rail cars from China.\\nThe Washington Post reported on April 13 that U.S. Senators from Virginia and Maryland proposed the idea in new legislation. It reflects growing concerns that China’s state-owned rail company could hurt American manufacturers and make the system vulnerable to cyber espionage.\\nDave Smolensky, spokesman for the China Railway Rolling Stock Corp, dismissed the espionage concerns. The company also said the United States should be promoting competition.\\nThe company has won four major U.S. rail car contracts. It is pursuing a Metro contract worth more than $1 billion to build up to 800 of the new rail cars.\\nThere are no U.S. transit rail car manufacturers. The bidding deadline is May 31.\\n\", 'On April 12, I wrote \"With lows of nearly $45 a barrel, historically undisturbed deep discounting,\" as to why companies were trading off a window of opportunity with the lowest valuation they had seen in years.\\nHigh valuations\\nI am not an expert, but I would like to illustrate that many valuation metrics are insufficient to evaluate oil\\'s current $45+ per barrel valuation.\\nThe supply story is probably over-hanging at first, as it appears the black hole in cap market equity is only around $70 #2. This means if we were to seek weekly inventory data, that number would spiral downward to $70 #4. This is gradual, and if this $60 to $70 levels is not expected to be sustained as a matter of course we would be under replacement. As of January, the supply shortage is at least $990 #526.\\nInventory data history\\nAs of late exhibit, the supply at year-ends fell from above 718 mn taken down by 60-70 such cases in 1900. I believe this is obviously overdone. It has nothing to do with current oil prices, if anything, but how at the right price to the right price a supply deficit.\\nLab Turns Out (Spectrant Worldwide, ELITE, DCArch, Photovia) 1971 Oil tank filled with wax from old tankers is loaded on the New York Mercantile Exchange. All was well and he was reassessed. Alamed being on a cigar\\nLooking at the graph, work lease 2017 numbers means that 3/4 at 10-11 a.m. are refurbished to current price. When oil tries to read $60+ the strain is hard, and thus this is the season for purchases of petroleum products. In that cycle of about 3 days, 44 reaccommodation of oil, then 22 new refineries, equals closer to 55 per day. For real time, this means that the motivation for refineries upgrading is to replace raw petroleum product.\\nTaking the Pieces/Tracking Supply Base\\nNote that is NOT a \"bubble theory\", it\\'s simply an attempt to compare how fast oil prices have fallen. Among the 5 biggest OPEC producer-makers were Russia, Saudi Arabia, and Venezuela. They vastly outnumbered those other 9 (and this is why most of them are not in debt). The stock market has gone from bubbling up about $150 a barrel to hovering around $80 a barrel. The same seems to be happening about $60-$85/bbl. Realistically this increases the value of the company.\\nPushing Production\\nStill the bull\\'s eye. We have to accept that temperature increase is not an option, and clearly the OPEC oil cartel is not willing to \"survive\" the current efforts by several producers to reduce their inventories. This will get you nowhere; the resulting glut (outdated and experiencing a three-year decline in production) will significantly reduce all supplies this summer (particularly outside North America). The true end is yet to come.\\nOiltanking the Skynet\\nOil is also going down, and so will the housing, energy technology (based on the availability of drilling technology in the gulf and offshore), and some more pump-up at the macro level. While this might tug the cloud out of the picture, I do not see how the bubble will stop.\\nThe medical benefits, food, and healthcare for operators have changed in recent years, and the medical benefits of equipment that attaches to a small minority of aging, diseased, or sick people already matter. Absence of these kinds of discrete, cost-saving medical biotechnologies should open up \"revenue pool and all...collateralize (er) by power activation and deployment of multiple ‘missile…’ bundles.\" Currently, the shelf space looks well covered by many insurers, major provider of leg surgery and ophthalmic treatment, telemedicine, and emergency room outages in the U.S. So there could be as many as 15 billion SSR contracts rolled off and thus the commercial options could morph into that \"robust ETNs that SNL keeps his name in.\" As it relates to PRO investing we\\'re working on this. A good few companies are near exits and many REITs and large corporate issuers are passing their funds under the bus.\\nAnd if costs can be removed and the companies that have succeeded can increase again higher dividend yields for holders of higher-yielding options, here is how to play the downturn: If you rate your chances of dividend increases poorly, sell or buy anything in agriculture - crank up the dividend yield if it is low, and add sugar, cotton or corn (assuming it will continue to rise in price) if things in oil decline.\\nDisclosure: I am/we are long VSTL.\\nI wrote this article']\n",
      "[0, 1]\n"
     ]
    }
   ],
   "source": [
    "# load data\n",
    "train_data = load_data_as_lists(data_path + \"splits/train.jsonl\")\n",
    "val_data = load_data_as_lists(data_path + \"splits/val.jsonl\")\n",
    "test_data = load_data_as_lists(data_path + \"splits/test.jsonl\")\n",
    "\n",
    "print(train_data[0][:2])\n",
    "print(train_data[1][:2])  # 0 corresponds to human, 1 corresponds to machine"
   ]
  },
  {
   "cell_type": "code",
   "execution_count": 3,
   "metadata": {},
   "outputs": [
    {
     "name": "stdout",
     "output_type": "stream",
     "text": [
      "Num of train samples: 10000\n",
      "Num of test samples: 12000\n",
      "Num of val samples: 3000\n"
     ]
    }
   ],
   "source": [
    "print(f\"Num of train samples: {len(train_data[0])}\")\n",
    "print(f\"Num of test samples: {len(test_data[0])}\")\n",
    "print(f\"Num of val samples: {len(val_data[0])}\")\n",
    "# why are there 12k test samples wtf?"
   ]
  },
  {
   "cell_type": "markdown",
   "metadata": {},
   "source": [
    "## Testing Dataset functionality"
   ]
  },
  {
   "cell_type": "code",
   "execution_count": 23,
   "metadata": {},
   "outputs": [],
   "source": [
    "from datasets import load_dataset\n",
    "import numpy as np\n",
    "import pandas as pd\n",
    "import matplotlib.pyplot as plt"
   ]
  },
  {
   "cell_type": "code",
   "execution_count": 5,
   "metadata": {},
   "outputs": [
    {
     "data": {
      "application/vnd.jupyter.widget-view+json": {
       "model_id": "879f021566144b96bd420c1dab4fdf2d",
       "version_major": 2,
       "version_minor": 0
      },
      "text/plain": [
       "Generating train split: 0 examples [00:00, ? examples/s]"
      ]
     },
     "metadata": {},
     "output_type": "display_data"
    },
    {
     "data": {
      "application/vnd.jupyter.widget-view+json": {
       "model_id": "1f98fd1f78664128bf32c2c2ad7257e8",
       "version_major": 2,
       "version_minor": 0
      },
      "text/plain": [
       "Generating val split: 0 examples [00:00, ? examples/s]"
      ]
     },
     "metadata": {},
     "output_type": "display_data"
    },
    {
     "data": {
      "application/vnd.jupyter.widget-view+json": {
       "model_id": "acd62e851c2c41119d01b150eac02af3",
       "version_major": 2,
       "version_minor": 0
      },
      "text/plain": [
       "Generating test split: 0 examples [00:00, ? examples/s]"
      ]
     },
     "metadata": {},
     "output_type": "display_data"
    }
   ],
   "source": [
    "data_files = {\n",
    "    \"train\": data_path + \"splits/train.jsonl\",\n",
    "    \"val\" : data_path + \"splits/val.jsonl\",\n",
    "    \"test\": data_path + \"splits/test.jsonl\",\n",
    "}\n",
    "grover_dataset = load_dataset(\"json\", data_files=data_files)"
   ]
  },
  {
   "cell_type": "code",
   "execution_count": 6,
   "metadata": {},
   "outputs": [
    {
     "data": {
      "text/plain": [
       "{'article': \"Patrons crowd the platform at the Washington Metropolitan Area Transit Authority's (WMATA) Metro Center stop in Washington, D.C. on Dec. 20, 2004. Thousands use the public transit system daily to get them in and around the D.C. area. (Karen Bleier/AFP/Getty Images)\\nUS Senators Threaten Metro Funding Over Chinese Manufacturer\\nWASHINGTON —Federal lawmakers say they’ll approve badly needed funding for Washington’s transit system, but only if it avoids buying new rail cars from China.\\nThe Washington Post reported on April 13 that U.S. Senators from Virginia and Maryland proposed the idea in new legislation. It reflects growing concerns that China’s state-owned rail company could hurt American manufacturers and make the system vulnerable to cyber espionage.\\nDave Smolensky, spokesman for the China Railway Rolling Stock Corp, dismissed the espionage concerns. The company also said the United States should be promoting competition.\\nThe company has won four major U.S. rail car contracts. It is pursuing a Metro contract worth more than $1 billion to build up to 800 of the new rail cars.\\nThere are no U.S. transit rail car manufacturers. The bidding deadline is May 31.\\n\",\n",
       " 'domain': 'theepochtimes.com',\n",
       " 'title': 'US Senators Threaten Metro Funding Over Chinese Manufacturer',\n",
       " 'date': 'April 15, 2019',\n",
       " 'authors': None,\n",
       " 'ind30k': 29363,\n",
       " 'url': 'https://www.theepochtimes.com/us-senators-threaten-metro-funding-over-chinese-manufacturer_2880764.html',\n",
       " 'label': 'human',\n",
       " 'orig_split': 'train_burner',\n",
       " 'split': 'train',\n",
       " 'random_score': -4.26355665680627,\n",
       " 'top_p': None}"
      ]
     },
     "execution_count": 6,
     "metadata": {},
     "output_type": "execute_result"
    }
   ],
   "source": [
    "grover_dataset[\"train\"][0]"
   ]
  },
  {
   "cell_type": "code",
   "execution_count": 28,
   "metadata": {},
   "outputs": [
    {
     "name": "stdout",
     "output_type": "stream",
     "text": [
      "[13705, 11993, 7946, 7401, 7060, 5119, 4879, 4442, 4162, 4077]\n",
      "[7413, 5297, 4729, 3930, 3847, 3476, 3227, 3034, 3007, 2912]\n",
      "[11333, 11231, 10991, 9628, 8623, 6146, 6126, 5461, 5367, 5255]\n"
     ]
    }
   ],
   "source": [
    "# article length analysis\n",
    "lens = {\"train\": [], \"val\": [], \"test\": []}\n",
    "\n",
    "for split in grover_dataset.keys():\n",
    "    for i in range(len(grover_dataset[split])):\n",
    "        text = grover_dataset[split][i]['article']\n",
    "        lens[split].append(len(text.split()))\n",
    "\n",
    "print(sorted(lens[\"train\"], reverse=True)[:10])\n",
    "# plt.hist(lens['train'], bins=50)\n",
    "print(sorted(lens[\"val\"], reverse=True)[:10])\n",
    "# plt.hist(lens['val'], bins=50)\n",
    "print(sorted(lens[\"test\"], reverse=True)[:10])\n",
    "# plt.hist(lens['test'], bins=50)\n",
    "\n",
    "#### The longest article seems to be 13k words!\n"
   ]
  },
  {
   "cell_type": "code",
   "execution_count": 29,
   "metadata": {},
   "outputs": [
    {
     "name": "stdout",
     "output_type": "stream",
     "text": [
      "{'train': label\n",
      "human      5000\n",
      "machine    5000\n",
      "Name: count, dtype: int64, 'val': label\n",
      "human      2000\n",
      "machine    1000\n",
      "Name: count, dtype: int64, 'test': label\n",
      "human      8000\n",
      "machine    4000\n",
      "Name: count, dtype: int64}\n"
     ]
    }
   ],
   "source": [
    "# data imbalance checking\n",
    "label_counts = {}\n",
    "for split in grover_dataset.keys():\n",
    "    df = pd.DataFrame(grover_dataset[split])\n",
    "    label_counts[split] = df['label'].value_counts()\n",
    "print(label_counts)\n",
    "\n",
    "# weird, train is balanced, but val and test are imbalanced."
   ]
  },
  {
   "cell_type": "code",
   "execution_count": null,
   "metadata": {},
   "outputs": [],
   "source": []
  },
  {
   "cell_type": "code",
   "execution_count": null,
   "metadata": {},
   "outputs": [],
   "source": []
  },
  {
   "cell_type": "code",
   "execution_count": null,
   "metadata": {},
   "outputs": [],
   "source": []
  },
  {
   "cell_type": "code",
   "execution_count": null,
   "metadata": {},
   "outputs": [],
   "source": []
  },
  {
   "cell_type": "code",
   "execution_count": null,
   "metadata": {},
   "outputs": [],
   "source": []
  },
  {
   "cell_type": "code",
   "execution_count": null,
   "metadata": {},
   "outputs": [],
   "source": []
  },
  {
   "cell_type": "code",
   "execution_count": null,
   "metadata": {},
   "outputs": [],
   "source": []
  }
 ],
 "metadata": {
  "kernelspec": {
   "display_name": "Python 3",
   "language": "python",
   "name": "python3"
  },
  "language_info": {
   "codemirror_mode": {
    "name": "ipython",
    "version": 3
   },
   "file_extension": ".py",
   "mimetype": "text/x-python",
   "name": "python",
   "nbconvert_exporter": "python",
   "pygments_lexer": "ipython3",
   "version": "3.10.13"
  }
 },
 "nbformat": 4,
 "nbformat_minor": 2
}
